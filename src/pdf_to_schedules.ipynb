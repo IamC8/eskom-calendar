{
 "cells": [
  {
   "cell_type": "code",
   "execution_count": null,
   "id": "3b8e62d3",
   "metadata": {
    "ExecuteTime": {
     "end_time": "2023-05-23T14:41:56.746975Z",
     "start_time": "2023-05-23T14:41:56.743398Z"
    }
   },
   "outputs": [],
   "source": [
    "import pandas as pd\n",
    "import numpy as np\n",
    "from tabula.io import read_pdf\n",
    "import re\n",
    "from pprint import pprint"
   ]
  },
  {
   "cell_type": "markdown",
   "id": "de355094",
   "metadata": {},
   "source": [
    "# eThekwini"
   ]
  },
  {
   "cell_type": "markdown",
   "id": "4c08c4c8",
   "metadata": {},
   "source": [
    "First, get all the schedules (these are copy-pasted manually 🙃 )"
   ]
  },
  {
   "cell_type": "code",
   "execution_count": null,
   "id": "f16875ea",
   "metadata": {
    "ExecuteTime": {
     "end_time": "2023-05-23T14:41:58.041505Z",
     "start_time": "2023-05-23T14:41:58.038176Z"
    }
   },
   "outputs": [],
   "source": [
    "def to_2d(s, first_re=r'(?<!,)\\s', second_re=', '):\n",
    "    return [\n",
    "        re.split(second_re, si)\n",
    "        for si\n",
    "        in re.split(first_re, s)\n",
    "    ]\n",
    "def to_1d(s, first_re=r'(?<!,)\\s'):\n",
    "    return re.split(first_re, s)"
   ]
  },
  {
   "cell_type": "code",
   "execution_count": null,
   "id": "81d9b0a2",
   "metadata": {
    "ExecuteTime": {
     "end_time": "2023-05-23T14:41:59.395911Z",
     "start_time": "2023-05-23T14:41:59.389116Z"
    },
    "code_folding": [
     0
    ]
   },
   "outputs": [],
   "source": [
    "# minimise me\n",
    "mon = [\n",
    "    \"00:00 - 02:00 02:00 - 04:00 04:00 - 06:00 06:00 - 08:00 08:00 - 10:00 10:00 - 12:00 12:00 - 14:00 14:00 - 16:00 16:00 - 18:00 18:00 - 20:00 20:00 - 22:00 22:00 - 00:00\",\n",
    "    \"7A 14A 9B 2A 9A 3A 4A 11A 1A 10A 12A 8B\",\n",
    "    \"7A, 1B 14A, 5B 9B, 15A 2A, 11B 9A, 12B 3A, 7B 4A, 16B 11A, 15B 1A, 10B 10A, 4B 12A, 13B 8B, 13A\",\n",
    "    \"7A, 1B, 10A 14A, 5B, 1A 9B, 15A, 16B 2A, 11B, 13A 9A, 12B, 5A 3A, 7B, 16A 4A, 16B, 15A 11A, 15B, 6A 1A, 10B, 14A 10A, 4B, 7A 12A, 13B, 8A 8B, 13A, 11B\",\n",
    "    \"7A, 1B, 10A, 4B 14A, 5B, 1A, 10B 9B, 15A, 16B, 4A 2A, 11B, 13A, 8B 9A, 12B, 5A, 2B 3A, 7B, 16A, 6B 4A, 16B, 15A, 9B 11A, 15B, 6A, 14B 1A, 10B, 14A, 5B 10A, 4B, 7A, 1B 12A, 13B, 8A, 3B 8B, 13A, 11B, 2A\",\n",
    "    \"7A, 1B, 10A, 4B, 5A 14A, 5B, 1A, 10B, 16A 9B, 15A, 16B, 4A, 13B 2A, 11B, 13A, 8B, 11A 9A, 12B, 5A, 2B, 1A 3A, 7B, 16A, 6B, 10A 4A, 16B, 15A, 9B, 12A 11A, 15B, 6A, 14B, 2A 1A, 10B, 14A, 5B, 9A 10A, 4B, 7A, 1B, 3A 12A, 13B, 8A, 3B, 4A 8B, 13A, 11B, 2A, 14B\",\n",
    "    \"7A, 1B, 10A, 4B, 5A, 2B 14A, 5B, 1A, 10B, 16A, 6B 9B, 15A, 16B, 4A, 13B, 12A 2A, 11B, 13A, 8B, 11A, 15B 9A, 12B, 5A, 2B, 1A, 10B 3A, 7B, 16A, 6B, 10A, 4B 4A, 16B, 15A, 9B, 12A, 13B 11A, 15B, 6A, 14B, 2A, 11B 1A, 10B, 14A, 5B, 9A, 12B 10A, 4B, 7A, 1B, 3A, 7B 12A, 13B, 8A, 3B, 4A, 16B 8B, 13A, 11B, 2A, 14B, 6A\",\n",
    "    \"7A, 1B, 10A, 4B, 5A, 2B, 9A 14A, 5B, 1A, 10B, 16A, 6B, 7B 9B, 15A, 16B, 4A, 13B, 12A, 3B 2A, 11B, 13A, 8B, 11A, 15B, 18 9A, 12B, 5A, 2B, 1A, 10B, 18 3A, 7B, 16A, 6B, 10A, 4B, 20 4A, 16B, 15A, 9B, 12A, 13B, 20 11A, 15B, 6A, 14B, 2A, 11B, 19 1A, 10B, 14A, 5B, 9A, 12B, 19 10A, 4B, 7A, 1B, 3A, 7B, 17 12A, 13B, 8A, 3B, 4A, 16B, 17 8B, 13A, 11B, 2A, 14B, 6A, 15B\",\n",
    "    \"7A, 1B, 10A, 4B, 5A, 2B, 9A, 12B 14A, 5B, 1A, 10B, 16A, 6B, 7B, 3A 9B, 15A, 16B, 4A, 13B, 12A, 3B, 8A 2A, 11B, 13A, 8B, 11A, 15B, 18, 6A 9A, 12B, 5A, 2B, 1A, 10B, 18, 14A 3A, 7B, 16A, 6B, 10A, 4B, 20, 7A 4A, 16B, 15A, 9B, 12A, 13B, 20, 8A 11A, 15B, 6A, 14B, 2A, 11B, 19, 13A 1A, 10B, 14A, 5B, 9A, 12B, 19, 5A 10A, 4B, 7A, 1B, 3A, 7B, 17, 16A 12A, 13B, 8A, 3B, 4A, 16B, 17, 15A 8B, 13A, 11B, 2A, 14B, 6A, 15B, 11A\",\n",
    "]\n",
    "\n",
    "tue = [\n",
    "    \"00:00 - 02:00 02:00 - 04:00 04:00 - 06:00 06:00 - 08:00 08:00 - 10:00 10:00 - 12:00 12:00 - 14:00 14:00 - 16:00 16:00 - 18:00 18:00 - 20:00 20:00 - 22:00 22:00 - 00:00\",\n",
    "    \"12B 11A 3A 8A 13A 6A 16A 14A 5A 15A 7A 12A\",\n",
    "    \"12B, 9A 11A, 15B 3A, 7B 8A, 3B 13A, 8B 6A, 14B 16A, 6B 14A, 5B 5A, 2B 15A, 9B 7A, 1B 12A, 13B\",\n",
    "    \"12B, 9A, 5A 11A, 15B, 6A 3A, 7B, 16A 8A, 3B, 12A 13A, 8B, 2A 6A, 14B, 11A 16A, 6B, 3A 14A, 5B, 1A 5A, 2B, 9A 15A, 9B, 4A 7A, 1B, 10A 12A, 13B, 8A\",\n",
    "    \"12B, 9A, 5A, 2B 11A, 15B, 6A, 14B 3A, 7B, 16A, 6B 8A, 3B, 12A, 13B 13A, 8B, 2A, 11B 6A, 14B, 11A, 15B 16A, 6B, 3A, 7B 14A, 5B, 1A, 10B 5A, 2B, 9A, 12B 15A, 9B, 4A, 16B 7A, 1B, 10A, 4B 12A, 13B, 8A, 3B\",\n",
    "    \"12B, 9A, 5A, 2B, 10B 11A, 15B, 6A, 14B, 16B 3A, 7B, 16A, 6B, 10A 8A, 3B, 12A, 13B, 14A 13A, 8B, 2A, 11B, 5A 6A, 14B, 11A, 15B, 15A 16A, 6B, 3A, 7B, 7A 14A, 5B, 1A, 10B, 8A 5A, 2B, 9A, 12B, 13A 15A, 9B, 4A, 16B, 6A 7A, 1B, 10A, 4B, 16A 12A, 13B, 8A, 3B, 2A\",\n",
    "    \"12B, 9A, 5A, 2B, 10B, 1A 11A, 15B, 6A, 14B, 16B, 4A 3A, 7B, 16A, 6B, 10A, 4B 8A, 3B, 12A, 13B, 14A, 5B 13A, 8B, 2A, 11B, 5A, 2B 6A, 14B, 11A, 15B, 15A, 9B 16A, 6B, 3A, 7B, 7A, 1B 14A, 5B, 1A, 10B, 8A, 3B 5A, 2B, 9A, 12B, 13A, 8B 15A, 9B, 4A, 16B, 6A, 14B 7A, 1B, 10A, 4B, 16A, 6B 12A, 13B, 8A, 3B, 2A, 11B\",\n",
    "    \"12B, 9A, 5A, 2B, 10B, 1A, 14A 11A, 15B, 6A, 14B, 16B, 4A, 15A 3A, 7B, 16A, 6B, 10A, 4B, 1B 8A, 3B, 12A, 13B, 14A, 5B, 20 13A, 8B, 2A, 11B, 5A, 2B, 20 6A, 14B, 11A, 15B, 15A, 9B, 18 16A, 6B, 3A, 7B, 7A, 1B, 18 14A, 5B, 1A, 10B, 8A, 3B, 17 5A, 2B, 9A, 12B, 13A, 8B, 17 15A, 9B, 4A, 16B, 6A, 14B, 19 7A, 1B, 10A, 4B, 16A, 6B, 19 12A, 13B, 8A, 3B, 2A, 11B, 13A\",\n",
    "    \"12B, 9A, 5A, 2B, 10B, 1A, 14A, 5B 11A, 15B, 6A, 14B, 16B, 4A, 15A, 9B 3A, 7B, 16A, 6B, 10A, 4B, 1B, 7A 8A, 3B, 12A, 13B, 14A, 5B, 20, 1A 13A, 8B, 2A, 11B, 5A, 2B, 20, 9A 6A, 14B, 11A, 15B, 15A, 9B, 18, 4A 16A, 6B, 3A, 7B, 7A, 1B, 18, 10A 14A, 5B, 1A, 10B, 8A, 3B, 17, 12A 5A, 2B, 9A, 12B, 13A, 8B, 17, 2A 15A, 9B, 4A, 16B, 6A, 14B, 19, 11A 7A, 1B, 10A, 4B, 16A, 6B, 19, 3A 12A, 13B, 8A, 3B, 2A, 11B, 13A, 8B\",\n",
    "]\n",
    "\n",
    "wed = [\n",
    "    \"00:00 - 02:00 02:00 - 04:00 04:00 - 06:00 06:00 - 08:00 08:00 - 10:00 10:00 - 12:00 12:00 - 14:00 14:00 - 16:00 16:00 - 18:00 18:00 - 20:00 20:00 - 22:00 22:00 - 00:00\",\n",
    "    \"6B 9A 5B 15B 16B 4B 13B 11B 7B 12B 10B 15A\",\n",
    "    \"6B, 16A 9A, 12B 5B, 14A 15B, 11A 16B, 4A 4B, 10A 13B, 12A 11B, 2A 7B, 3A 12B, 9A 10B, 1A 15A, 9B\",\n",
    "    \"6B, 16A, 7B 9A, 12B, 5A 5B, 14A, 10B 15B, 11A, 14B 16B, 4A, 9B 4B, 10A, 1B 13B, 12A, 3B 11B, 2A, 8B 7B, 3A, 6B 12B, 9A, 2B 10B, 1A, 5B 15A, 9B, 4A\",\n",
    "    \"6B, 16A, 7B, 3A 9A, 12B, 5A, 2B 5B, 14A, 10B, 1A 15B, 11A, 14B, 6A 16B, 4A, 9B, 15A 4B, 10A, 1B, 7A 13B, 12A, 3B, 8A 11B, 2A, 8B, 13A 7B, 3A, 6B, 16A 12B, 9A, 2B, 5A 10B, 1A, 5B, 14A 15A, 9B, 4A, 16B\",\n",
    "    \"6B, 16A, 7B, 3A, 1B 9A, 12B, 5A, 2B, 13A 5B, 14A, 10B, 1A, 8A 15B, 11A, 14B, 6A, 11B 16B, 4A, 9B, 15A, 7B 4B, 10A, 1B, 7A, 12B 13B, 12A, 3B, 8A, 10B 11B, 2A, 8B, 13A, 15B 7B, 3A, 6B, 16A, 16B 12B, 9A, 2B, 5A, 4B 10B, 1A, 5B, 14A, 13B 15A, 9B, 4A, 16B, 6A\",\n",
    "    \"6B, 16A, 7B, 3A, 1B, 7A 9A, 12B, 5A, 2B, 13A, 8B 5B, 14A, 10B, 1A, 8A, 3B 15B, 11A, 14B, 6A, 11B, 2A 16B, 4A, 9B, 15A, 7B, 3A 4B, 10A, 1B, 7A, 12B, 9A 13B, 12A, 3B, 8A, 10B, 1A 11B, 2A, 8B, 13A, 15B, 11A 7B, 3A, 6B, 16A, 16B, 4A 12B, 9A, 2B, 5A, 4B, 10A 10B, 1A, 5B, 14A, 13B, 12A 15A, 9B, 4A, 16B, 6A, 14B\",\n",
    "    \"6B, 16A, 7B, 3A, 1B, 7A, 4B 9A, 12B, 5A, 2B, 13A, 8B, 2A 5B, 14A, 10B, 1A, 8A, 3B, 13B 15B, 11A, 14B, 6A, 11B, 2A, 17 16B, 4A, 9B, 15A, 7B, 3A, 17 4B, 10A, 1B, 7A, 12B, 9A, 19 13B, 12A, 3B, 8A, 10B, 1A, 19 11B, 2A, 8B, 13A, 15B, 11A, 18 7B, 3A, 6B, 16A, 16B, 4A, 18 12B, 9A, 2B, 5A, 4B, 10A, 20 10B, 1A, 5B, 14A, 13B, 12A, 20 15A, 9B, 4A, 16B, 6A, 14B, 11A\",\n",
    "    \"6B, 16A, 7B, 3A, 1B, 7A, 4B, 10A 9A, 12B, 5A, 2B, 13A, 8B, 2A, 11B 5B, 14A, 10B, 1A, 8A, 3B, 13B, 12A 15B, 11A, 14B, 6A, 11B, 2A, 17, 8B 16B, 4A, 9B, 15A, 7B, 3A, 17, 6B 4B, 10A, 1B, 7A, 12B, 9A, 19, 2B 13B, 12A, 3B, 8A, 10B, 1A, 19, 5B 11B, 2A, 8B, 13A, 15B, 11A, 18, 14B 7B, 3A, 6B, 16A, 16B, 4A, 18, 9B 12B, 9A, 2B, 5A, 4B, 10A, 20, 1B 10B, 1A, 5B, 14A, 13B, 12A, 20, 3B 15A, 9B, 4A, 16B, 6A, 14B, 11A, 15B\",\n",
    "]\n",
    "\n",
    "thu = [\n",
    "    \"00:00 - 02:00 02:00 - 04:00 04:00 - 06:00 06:00 - 08:00 08:00 - 10:00 10:00 - 12:00 12:00 - 14:00 14:00 - 16:00 16:00 - 18:00 18:00 - 20:00 20:00 - 22:00 22:00 - 00:00\",\n",
    "    \"10A 13B 2A 2B 6B 9B 8B 3B 1B 5B 14B 4A\",\n",
    "    \"10A, 4B 13B, 12A 2A, 11B 2B, 5A 6B, 16A 9B, 15A 8B, 13A 3B, 8A 1B, 7A 5B, 14A 14B, 6A 4A, 16B\",\n",
    "    \"10A, 4B, 7A 13B, 12A, 5B 2A, 11B, 13A 2B, 5A, 12B 6B, 16A, 7B 9B, 15A, 16B 8B, 13A, 11B 3B, 8A, 13B 1B, 7A, 4B 5B, 14A, 10B 14B, 6A, 15B 4A, 16B, 15A\",\n",
    "    \"10A, 4B, 7A, 1B 13B, 12A, 5B, 14A 2A, 11B, 13A, 8B 2B, 5A, 12B, 9A 6B, 16A, 7B, 3A 9B, 15A, 16B, 4A 8B, 13A, 11B, 2A 3B, 8A, 13B, 12A 1B, 7A, 4B, 10A 5B, 14A, 10B, 1A 14B, 6A, 15B, 11A 4A, 16B, 15A, 9B\",\n",
    "    \"10A, 4B, 7A, 1B, 3A 13B, 12A, 5B, 14A, 1A 2A, 11B, 13A, 8B, 11A 2B, 5A, 12B, 9A, 3B 6B, 16A, 7B, 3A, 1B 9B, 15A, 16B, 4A, 5B 8B, 13A, 11B, 2A, 14B 3B, 8A, 13B, 12A, 2B 1B, 7A, 4B, 10A, 6B 5B, 14A, 10B, 1A, 9B 14B, 6A, 15B, 11A, 8B 4A, 16B, 15A, 9B, 9A\",\n",
    "    \"10A, 4B, 7A, 1B, 3A, 7B 13B, 12A, 5B, 14A, 1A, 10B 2A, 11B, 13A, 8B, 11A, 15B 2B, 5A, 12B, 9A, 3B, 8A 6B, 16A, 7B, 3A, 1B, 7A 9B, 15A, 16B, 4A, 5B, 14A 8B, 13A, 11B, 2A, 14B, 6A 3B, 8A, 13B, 12A, 2B, 5A 1B, 7A, 4B, 10A, 6B, 16A 5B, 14A, 10B, 1A, 9B, 15A 14B, 6A, 15B, 11A, 8B, 13A 4A, 16B, 15A, 9B, 9A, 12B\",\n",
    "    \"10A, 4B, 7A, 1B, 3A, 7B, 16A 13B, 12A, 5B, 14A, 1A, 10B, 3B 2A, 11B, 13A, 8B, 11A, 15B, 6A 2B, 5A, 12B, 9A, 3B, 8A, 19 6B, 16A, 7B, 3A, 1B, 7A, 19 9B, 15A, 16B, 4A, 5B, 14A, 17 8B, 13A, 11B, 2A, 14B, 6A, 17 3B, 8A, 13B, 12A, 2B, 5A, 20 1B, 7A, 4B, 10A, 6B, 16A, 20 5B, 14A, 10B, 1A, 9B, 15A, 18 14B, 6A, 15B, 11A, 8B, 13A, 18 4A, 16B, 15A, 9B, 9A, 12B, 5A\",\n",
    "    \"10A, 4B, 7A, 1B, 3A, 7B, 16A, 6B 13B, 12A, 5B, 14A, 1A, 10B, 3B, 8A 2A, 11B, 13A, 8B, 11A, 15B, 6A, 14B 2B, 5A, 12B, 9A, 3B, 8A, 19, 13B 6B, 16A, 7B, 3A, 1B, 7A, 19, 4B 9B, 15A, 16B, 4A, 5B, 14A, 17, 10B 8B, 13A, 11B, 2A, 14B, 6A, 17, 15B 3B, 8A, 13B, 12A, 2B, 5A, 20, 12B 1B, 7A, 4B, 10A, 6B, 16A, 20, 7B 5B, 14A, 10B, 1A, 9B, 15A, 18, 16B 14B, 6A, 15B, 11A, 8B, 13A, 18, 11B 4A, 16B, 15A, 9B, 9A, 12B, 5A, 2B\",\n",
    "]\n",
    "\n",
    "fri = [\n",
    "    \"00:00 - 02:00 02:00 - 04:00 04:00 - 06:00 06:00 - 08:00 08:00 - 10:00 10:00 - 12:00 12:00 - 14:00 14:00 - 16:00 16:00 - 18:00 18:00 - 20:00 20:00 - 22:00 22:00 - 00:00\",\n",
    "    \"3B 13A 5A 3A 1A 12A 9A 10A 11A 2A 4A 16A\",\n",
    "    \"3B, 8A 13A, 8B 5A, 2B 3A, 7B 1A, 10B 12A, 13B 9A, 12B 10A, 4B 11A, 15B 2A, 11B 4A, 16B 16A, 6B\",\n",
    "    \"3B, 8A, 13B 13A, 8B, 2A 5A, 2B, 9A 3A, 7B, 6B 1A, 10B, 5B 12A, 13B, 3B 9A, 12B, 2B 10A, 4B, 1B 11A, 15B, 14B 2A, 11B, 8B 4A, 16B, 9B 16A, 6B, 3A\",\n",
    "    \"3B, 8A, 13B, 12A 13A, 8B, 2A, 11B 5A, 2B, 9A, 12B 3A, 7B, 6B, 16A 1A, 10B, 5B, 14A 12A, 13B, 3B, 8A 9A, 12B, 2B, 5A 10A, 4B, 1B, 7A 11A, 15B, 14B, 6A 2A, 11B, 8B, 13A 4A, 16B, 9B, 15A 16A, 6B, 3A, 7B\",\n",
    "    \"3B, 8A, 13B, 12A, 15B 13A, 8B, 2A, 11B, 4B 5A, 2B, 9A, 12B, 15A 3A, 7B, 6B, 16A, 10A 1A, 10B, 5B, 14A, 11A 12A, 13B, 3B, 8A, 2A 9A, 12B, 2B, 5A, 4A 10A, 4B, 1B, 7A, 3A 11A, 15B, 14B, 6A, 1A 2A, 11B, 8B, 13A, 12A 4A, 16B, 9B, 15A, 9A 16A, 6B, 3A, 7B, 5B\",\n",
    "    \"3B, 8A, 13B, 12A, 15B, 11A 13A, 8B, 2A, 11B, 4B, 10A 5A, 2B, 9A, 12B, 15A, 9B 3A, 7B, 6B, 16A, 10A, 4B 1A, 10B, 5B, 14A, 11A, 15B 12A, 13B, 3B, 8A, 2A, 11B 9A, 12B, 2B, 5A, 4A, 16B 10A, 4B, 1B, 7A, 3A, 7B 11A, 15B, 14B, 6A, 1A, 10B 2A, 11B, 8B, 13A, 12A, 13B 4A, 16B, 9B, 15A, 9A, 12B 16A, 6B, 3A, 7B, 5B, 14A\",\n",
    "    \"3B, 8A, 13B, 12A, 15B, 11A, 14B 13A, 8B, 2A, 11B, 4B, 10A, 7A 5A, 2B, 9A, 12B, 15A, 9B, 4A 3A, 7B, 6B, 16A, 10A, 4B, 18 1A, 10B, 5B, 14A, 11A, 15B, 18 12A, 13B, 3B, 8A, 2A, 11B, 20 9A, 12B, 2B, 5A, 4A, 16B, 20 10A, 4B, 1B, 7A, 3A, 7B, 19 11A, 15B, 14B, 6A, 1A, 10B, 19 2A, 11B, 8B, 13A, 12A, 13B, 17 4A, 16B, 9B, 15A, 9A, 12B, 17 16A, 6B, 3A, 7B, 5B, 14A, 1A\",\n",
    "    \"3B, 8A, 13B, 12A, 15B, 11A, 14B, 6A 13A, 8B, 2A, 11B, 4B, 10A, 7A, 1B 5A, 2B, 9A, 12B, 15A, 9B, 4A, 16B 3A, 7B, 6B, 16A, 10A, 4B, 18, 1B 1A, 10B, 5B, 14A, 11A, 15B, 18, 14B 12A, 13B, 3B, 8A, 2A, 11B, 20, 8B 9A, 12B, 2B, 5A, 4A, 16B, 20, 9B 10A, 4B, 1B, 7A, 3A, 7B, 19, 6B 11A, 15B, 14B, 6A, 1A, 10B, 19, 5B 2A, 11B, 8B, 13A, 12A, 13B, 17, 3B 4A, 16B, 9B, 15A, 9A, 12B, 17, 2B 16A, 6B, 3A, 7B, 5B, 14A, 1A, 10B\",\n",
    "]\n",
    "\n",
    "sat = [\n",
    "    \"00:00 - 02:00 02:00 - 04:00 04:00 - 06:00 06:00 - 08:00 08:00 - 10:00 10:00 - 12:00 12:00 - 14:00 14:00 - 16:00 16:00 - 18:00 18:00 - 20:00 20:00 - 22:00 22:00 - 00:00\",\n",
    "    \"4B 2B 15B 15A 7A 14A 6A 5A 13A 8A 16A 1A\",\n",
    "    \"4B, 10A 2B, 5A 15B, 11A 15A, 9B 7A, 1B 14A, 5B 6A, 14B 5A, 2B 13A, 8B 8A, 3B 16A, 6B 1A, 10B\",\n",
    "    \"4B, 10A, 7A 2B, 5A, 12B 15B, 11A, 14B 15A, 9B, 16B 7A, 1B, 4B 14A, 5B, 10B 6A, 14B, 15B 5A, 2B, 12B 13A, 8B, 11B 8A, 3B, 13B 16A, 6B, 7B 1A, 10B, 14A\",\n",
    "    \"4B, 10A, 7A, 1B 2B, 5A, 12B, 9A 15B, 11A, 14B, 6A 15A, 9B, 16B, 4A 7A, 1B, 4B, 10A 14A, 5B, 10B, 1A 6A, 14B, 15B, 11A 5A, 2B, 12B, 9A 13A, 8B, 11B, 2A 8A, 3B, 13B, 12A 16A, 6B, 7B, 3A 1A, 10B, 14A, 5B\",\n",
    "    \"4B, 10A, 7A, 1B, 8B 2B, 5A, 12B, 9A, 13B 15B, 11A, 14B, 6A, 7B 15A, 9B, 16B, 4A, 5A 7A, 1B, 4B, 10A, 13A 14A, 5B, 10B, 1A, 8A 6A, 14B, 15B, 11A, 16A 5A, 2B, 12B, 9A, 15A 13A, 8B, 11B, 2A, 7A 8A, 3B, 13B, 12A, 14A 16A, 6B, 7B, 3A, 6A 1A, 10B, 14A, 5B, 4A\",\n",
    "    \"4B, 10A, 7A, 1B, 8B, 13A 2B, 5A, 12B, 9A, 13B, 12A 15B, 11A, 14B, 6A, 7B, 3A 15A, 9B, 16B, 4A, 5A, 2B 7A, 1B, 4B, 10A, 13A, 8B 14A, 5B, 10B, 1A, 8A, 3B 6A, 14B, 15B, 11A, 16A, 6B 5A, 2B, 12B, 9A, 15A, 9B 13A, 8B, 11B, 2A, 7A, 1B 8A, 3B, 13B, 12A, 14A, 5B 16A, 6B, 7B, 3A, 6A, 14B 1A, 10B, 14A, 5B, 4A, 16B\",\n",
    "    \"4B, 10A, 7A, 1B, 8B, 13A, 11B 2B, 5A, 12B, 9A, 13B, 12A, 8A 15B, 11A, 14B, 6A, 7B, 3A, 6B 15A, 9B, 16B, 4A, 5A, 2B, 17 7A, 1B, 4B, 10A, 13A, 8B, 17 14A, 5B, 10B, 1A, 8A, 3B, 19 6A, 14B, 15B, 11A, 16A, 6B, 19 5A, 2B, 12B, 9A, 15A, 9B, 18 13A, 8B, 11B, 2A, 7A, 1B, 18 8A, 3B, 13B, 12A, 14A, 5B, 20 16A, 6B, 7B, 3A, 6A, 14B, 20 1A, 10B, 14A, 5B, 4A, 16B, 9B\",\n",
    "    \"4B, 10A, 7A, 1B, 8B, 13A, 11B, 2A 2B, 5A, 12B, 9A, 13B, 12A, 8A, 3B 15B, 11A, 14B, 6A, 7B, 3A, 6B, 16A 15A, 9B, 16B, 4A, 5A, 2B, 17, 12B 7A, 1B, 4B, 10A, 13A, 8B, 17, 11B 14A, 5B, 10B, 1A, 8A, 3B, 19, 13B 6A, 14B, 15B, 11A, 16A, 6B, 19, 7B 5A, 2B, 12B, 9A, 15A, 9B, 18, 16B 13A, 8B, 11B, 2A, 7A, 1B, 18, 4B 8A, 3B, 13B, 12A, 14A, 5B, 20, 10B 16A, 6B, 7B, 3A, 6A, 14B, 20, 15B 1A, 10B, 14A, 5B, 4A, 16B, 9B, 15A\",\n",
    "]\n",
    "\n",
    "sun = [\n",
    "    \"00:00 - 02:00 02:00 - 04:00 04:00 - 06:00 06:00 - 08:00 08:00 - 10:00 10:00 - 12:00 12:00 - 14:00 14:00 - 16:00 16:00 - 18:00 18:00 - 20:00 20:00 - 22:00 22:00 - 00:00\",\n",
    "    \"6A 8B 4B 10B 3B 11B 1B 7B 16B 14B 2B 8A\",\n",
    "    \"6A, 14B 8B, 13A 4B, 10A 10B, 1A 3B, 8A 11B, 2A 1B, 7A 7B, 3A 16B, 4A 14B, 6A 2B, 5A 8A, 3B\",\n",
    "    \"6A, 14B, 11A 8B, 13A, 2A 4B, 10A, 1B 10B, 1A, 14A 3B, 8A, 12A 11B, 2A, 13A 1B, 7A, 10A 7B, 3A, 16A 16B, 4A, 15A 14B, 6A, 11A 2B, 5A, 9A 8A, 3B, 12A\",\n",
    "    \"6A, 14B, 11A, 15B 8B, 13A, 2A, 11B 4B, 10A, 1B, 7A 10B, 1A, 14A, 5B 3B, 8A, 12A, 13B 11B, 2A, 13A, 8B 1B, 7A, 10A, 4B 7B, 3A, 16A, 6B 16B, 4A, 15A, 9B 14B, 6A, 11A, 15B 2B, 5A, 9A, 12B 8A, 3B, 12A, 13B\",\n",
    "    \"6A, 14B, 11A, 15B, 6B 8B, 13A, 2A, 11B, 9B 4B, 10A, 1B, 7A, 12B 10B, 1A, 14A, 5B, 7B 3B, 8A, 12A, 13B, 16B 11B, 2A, 13A, 8B, 14B 1B, 7A, 10A, 4B, 2B 7B, 3A, 16A, 6B, 10B 16B, 4A, 15A, 9B, 3B 14B, 6A, 11A, 15B, 11B 2B, 5A, 9A, 12B, 1B 8A, 3B, 12A, 13B, 14A\",\n",
    "    \"6A, 14B, 11A, 15B, 6B, 16A 8B, 13A, 2A, 11B, 9B, 15A 4B, 10A, 1B, 7A, 12B, 9A 10B, 1A, 14A, 5B, 7B, 3A 3B, 8A, 12A, 13B, 16B, 4A 11B, 2A, 13A, 8B, 14B, 6A 1B, 7A, 10A, 4B, 2B, 5A 7B, 3A, 16A, 6B, 10B, 1A 16B, 4A, 15A, 9B, 3B, 8A 14B, 6A, 11A, 15B, 11B, 2A 2B, 5A, 9A, 12B, 1B, 7A 8A, 3B, 12A, 13B, 14A, 5B\",\n",
    "    \"6A, 14B, 11A, 15B, 6B, 16A, 3A 8B, 13A, 2A, 11B, 9B, 15A, 16B 4B, 10A, 1B, 7A, 12B, 9A, 2B 10B, 1A, 14A, 5B, 7B, 3A, 20 3B, 8A, 12A, 13B, 16B, 4A, 20 11B, 2A, 13A, 8B, 14B, 6A, 18 1B, 7A, 10A, 4B, 2B, 5A, 18 7B, 3A, 16A, 6B, 10B, 1A, 17 16B, 4A, 15A, 9B, 3B, 8A, 17 14B, 6A, 11A, 15B, 11B, 2A, 19 2B, 5A, 9A, 12B, 1B, 7A, 19 8A, 3B, 12A, 13B, 14A, 5B, 10B\",\n",
    "    \"6A, 14B, 11A, 15B, 6B, 16A, 3A, 7B 8B, 13A, 2A, 11B, 9B, 15A, 16B, 4A 4B, 10A, 1B, 7A, 12B, 9A, 2B, 5A 10B, 1A, 14A, 5B, 7B, 3A, 20, 16A 3B, 8A, 12A, 13B, 16B, 4A, 20, 15A 11B, 2A, 13A, 8B, 14B, 6A, 18, 11A 1B, 7A, 10A, 4B, 2B, 5A, 18, 9A 7B, 3A, 16A, 6B, 10B, 1A, 17, 14A 16B, 4A, 15A, 9B, 3B, 8A, 17, 12A 14B, 6A, 11A, 15B, 11B, 2A, 19, 13A 2B, 5A, 9A, 12B, 1B, 7A, 19, 10A 8A, 3B, 12A, 13B, 14A, 5B, 10B, 1A\",\n",
    "]"
   ]
  },
  {
   "cell_type": "code",
   "execution_count": null,
   "id": "656516b6",
   "metadata": {
    "ExecuteTime": {
     "end_time": "2023-05-23T14:42:06.439213Z",
     "start_time": "2023-05-23T14:42:06.301388Z"
    },
    "code_folding": []
   },
   "outputs": [],
   "source": [
    "days = [\n",
    "    mon, tue, wed, thu, fri, sat, sun\n",
    "]\n",
    "\n",
    "cols = ['time', '1', '2', '3', '4', '5', '6', '7', '8']\n",
    "\n",
    "\n",
    "block_scheds = {}\n",
    "\n",
    "for dow_idx, dow in enumerate(days, 1):\n",
    "    print(f\"Day of week: {dow_idx}\")\n",
    "    uniq_blocks = []\n",
    "    df = pd.DataFrame()\n",
    "    print(\" Converting 2D arrays to df\")\n",
    "    for c, s in zip(cols, dow):\n",
    "#         print(f' Column: {c}, len: {len(s)} {s}')\n",
    "        if c == 'time':\n",
    "            df[c] = to_1d(s, first_re=r'(?<!-)\\s(?!-)')\n",
    "        else:\n",
    "            two_d = to_2d(s)\n",
    "#             print(two_d)\n",
    "            uniq_blocks += list(np.unique(np.array(two_d).flatten()))\n",
    "            uniq_blocks = list(set(uniq_blocks))\n",
    "            df[c] = to_1d(s)\n",
    "\n",
    "    df['start_time'] = df['time'].apply(lambda x: x.split(' - ')[0])\n",
    "    df['finsh_time'] = df['time'].apply(lambda x: x.split(' - ')[1])\n",
    "    df['day_of_week'] = dow_idx\n",
    "\n",
    "    print(\" Pivoting DF\")\n",
    "    uniq_blocks = sorted(uniq_blocks)\n",
    "    for b in uniq_blocks:\n",
    "        data = []\n",
    "        for i, row in df.iterrows():\n",
    "            for stage in ['1', '2', '3', '4', '5', '6', '7', '8']:\n",
    "                if b in row[stage]:\n",
    "                    data.append({\n",
    "                        'stage': stage,\n",
    "                        'block': b,\n",
    "                        'start_time': row['start_time'],\n",
    "                        'finsh_time': row['finsh_time'],\n",
    "                        'day_of_week': row['day_of_week']\n",
    "                    })\n",
    "        \n",
    "        if b in block_scheds:\n",
    "            block_scheds[b].extend(data)\n",
    "        else:\n",
    "            block_scheds[b] = data\n",
    "            \n",
    "csv_cols = ['day_of_week', 'start_time', 'finsh_time', 'stage']\n",
    "for block, sched in block_scheds.items():\n",
    "    path = f'../generated/kwazulu-natal-ethekwini-block-{block.lower()}.csv'\n",
    "    print(f\"Saving block {block.lower()} to {path}\")\n",
    "    tmp = pd.DataFrame(sched)[csv_cols].sort_values(csv_cols)\n",
    "#     print(tmp.head())\n",
    "    tmp.to_csv(path, index=False)"
   ]
  },
  {
   "cell_type": "markdown",
   "id": "777cdc0f",
   "metadata": {},
   "source": [
    "Next, scrape all the area names"
   ]
  },
  {
   "cell_type": "code",
   "execution_count": null,
   "id": "6f8d8767",
   "metadata": {
    "ExecuteTime": {
     "end_time": "2023-05-23T13:11:00.691979Z",
     "start_time": "2023-05-23T13:10:49.407415Z"
    }
   },
   "outputs": [],
   "source": [
    "path = '../generated/kwazulu-natal-ethekwini-2023-05-25.pdf'\n",
    "pdf_pages = read_pdf(path, pages=\"all\")"
   ]
  },
  {
   "cell_type": "code",
   "execution_count": null,
   "id": "b768c575",
   "metadata": {
    "ExecuteTime": {
     "end_time": "2023-05-23T14:32:52.896414Z",
     "start_time": "2023-05-23T14:32:52.878903Z"
    },
    "code_folding": [],
    "scrolled": false
   },
   "outputs": [],
   "source": [
    "\n",
    "\n",
    "dfs = [\n",
    "    pdf_pages[7].iloc[5:],\n",
    "    pdf_pages[8].iloc[5:],\n",
    "    pdf_pages[9].iloc[5:],\n",
    "    pdf_pages[10].iloc[2:],\n",
    "    pdf_pages[11].iloc[5:],\n",
    "    pdf_pages[12].iloc[5:],   \n",
    "]\n",
    "    \n",
    "def parse_split_cols(df, name_col, block_col):\n",
    "    block_suburbs = {}\n",
    "    \n",
    "    for i, row in df.iterrows():\n",
    "        if str(row[block_col]).lower() in block_suburbs:\n",
    "            block_suburbs[str(row[block_col]).lower()].append(str(row[name_col]).lower())\n",
    "        else:\n",
    "            block_suburbs[str(row[block_col]).lower()] = [str(row[name_col]).lower()]\n",
    "    return block_suburbs\n",
    "\n",
    "def parse_single_col(df, col):\n",
    "    blocks = ['10A', '10B', '11A', '11B', '12A', '12B', '13A', '13B', '14A', '14B', '15A', '15B', '16A', '16B', '17', '18', '19', '1A', '1B', '20', '2A', '2B', '3A', '3B', '4A', '4B', '5A', '5B', '6A', '6B', '7A', '7B', '8A', '8B', '9A', '9B']\n",
    "    block_re = r'\\s*(' + \")|(\".join(blocks) + r')\\s*'\n",
    "    # NOTE: Lowercase *after* the regex is set\n",
    "    blocks = [b.lower() for b in blocks]\n",
    "\n",
    "    block_suburbs = {}\n",
    "    \n",
    "    d = df[col].dropna().apply(\n",
    "        lambda item: [i.strip().lower() for i in re.split(block_re, item) if i is not None and len(i) > 0]\n",
    "    )\n",
    "    block_suburbs = {}\n",
    "    for ls in d:\n",
    "        burb = None\n",
    "        for i in ls:\n",
    "            if i in blocks and burb is not None:\n",
    "                # Add burb to block_suburbs\n",
    "                if i in block_suburbs:\n",
    "                    block_suburbs[i].append(burb)\n",
    "                else:\n",
    "                    block_suburbs[i] = [burb]\n",
    "                burb = None\n",
    "            else:\n",
    "                burb = i\n",
    "    return block_suburbs\n",
    "    \n",
    "arr = [\n",
    "    parse_split_cols(dfs[0], 'Unnamed: 0', 'Unnamed: 1'),\n",
    "    parse_single_col(dfs[0], 'LOAD SHEDDING'),\n",
    "    \n",
    "    parse_split_cols(dfs[1], 'Unnamed: 0', 'Unnamed: 1'),\n",
    "    parse_single_col(dfs[1], 'LOAD SHEDDING'),\n",
    "    \n",
    "    parse_split_cols(dfs[2], 'Unnamed: 0', 'Unnamed: 1'),\n",
    "    parse_single_col(dfs[2], 'LOAD SHEDDING'),\n",
    "    \n",
    "    parse_split_cols(dfs[3], 'Unnamed: 0', 'Unnamed: 1'),\n",
    "    parse_split_cols(dfs[3], 'Unnamed: 2', 'Unnamed: 3'),\n",
    "    parse_single_col(dfs[3], 'EFFECTIVE 25 MAY 2023'),\n",
    "    \n",
    "    parse_split_cols(dfs[4], 'Unnamed: 0', 'Unnamed: 1'),\n",
    "    parse_single_col(dfs[4], 'LOAD SHEDDING'),\n",
    "    \n",
    "    parse_split_cols(dfs[5], 'Unnamed: 0', 'Unnamed: 1'),\n",
    "    parse_single_col(dfs[5], 'LOAD SHEDDING'),\n",
    "]\n",
    "\n",
    "block_suburbs = {}\n",
    "\n",
    "for d in arr:\n",
    "    for k, v in d.items():\n",
    "        if k in block_suburbs:\n",
    "            block_suburbs[k].extend(v)\n",
    "        else:\n",
    "            block_suburbs[k] = v\n",
    "block_suburbs\n",
    "\n",
    "for k, v in sorted(block_suburbs.items()):\n",
    "    print(f'\\n\\n{k}:\\n  areas:')\n",
    "    for i in v:\n",
    "        print(f'  - {{name: \"{i}\",lat_lngs: []}}')"
   ]
  }
 ],
 "metadata": {
  "kernelspec": {
   "display_name": "Python 3 (ipykernel)",
   "language": "python",
   "name": "python3"
  },
  "language_info": {
   "codemirror_mode": {
    "name": "ipython",
    "version": 3
   },
   "file_extension": ".py",
   "mimetype": "text/x-python",
   "name": "python",
   "nbconvert_exporter": "python",
   "pygments_lexer": "ipython3",
   "version": "3.10.5"
  },
  "varInspector": {
   "cols": {
    "lenName": 16,
    "lenType": 16,
    "lenVar": 40
   },
   "kernels_config": {
    "python": {
     "delete_cmd_postfix": "",
     "delete_cmd_prefix": "del ",
     "library": "var_list.py",
     "varRefreshCmd": "print(var_dic_list())"
    },
    "r": {
     "delete_cmd_postfix": ") ",
     "delete_cmd_prefix": "rm(",
     "library": "var_list.r",
     "varRefreshCmd": "cat(var_dic_list()) "
    }
   },
   "position": {
    "height": "798.85px",
    "left": "1512px",
    "right": "20px",
    "top": "121px",
    "width": "347px"
   },
   "types_to_exclude": [
    "module",
    "function",
    "builtin_function_or_method",
    "instance",
    "_Feature"
   ],
   "window_display": false
  }
 },
 "nbformat": 4,
 "nbformat_minor": 5
}
